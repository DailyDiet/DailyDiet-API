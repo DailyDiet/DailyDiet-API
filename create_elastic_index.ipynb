{
 "cells": [
  {
   "cell_type": "code",
   "execution_count": 1,
   "metadata": {
    "pycharm": {
     "is_executing": false
    }
   },
   "outputs": [
    {
     "name": "stderr",
     "text": [
      "d:\\dailydiet\\dailydiet-api\\venv\\lib\\site-packages\\whitenoise\\base.py:115: UserWarning: No directory at: D:\\dailydiet\\dailydiet-api\\admin\\static\\\n  warnings.warn(u\"No directory at: {}\".format(root))\n"
     ],
     "output_type": "stream"
    }
   ],
   "source": [
    "import app\n",
    "instance = app.create_app()\n",
    "instance.app_context().push()"
   ]
  },
  {
   "cell_type": "code",
   "execution_count": 2,
   "metadata": {
    "pycharm": {
     "is_executing": false,
     "name": "#%%\n"
    }
   },
   "outputs": [],
   "source": [
    "from foods.models import Food,DietRecord\n",
    "from extentions import elastic"
   ]
  },
  {
   "cell_type": "code",
   "execution_count": 4,
   "metadata": {
    "pycharm": {
     "is_executing": false,
     "name": "#%%\n"
    }
   },
   "outputs": [],
   "source": [
    "page = Food.query.paginate(page=1,per_page=100)"
   ]
  },
  {
   "cell_type": "code",
   "execution_count": null,
   "metadata": {
    "pycharm": {
     "is_executing": false,
     "name": "#%%\n"
    }
   },
   "outputs": [],
   "source": [
    "page.next()"
   ]
  },
  {
   "cell_type": "code",
   "execution_count": 5,
   "metadata": {
    "pycharm": {
     "is_executing": false
    }
   },
   "outputs": [
    {
     "data": {
      "text/plain": [
       "60"
      ]
     },
     "execution_count": 5,
     "metadata": {},
     "output_type": "execute_result"
    }
   ],
   "source": [
    "page.pages"
   ]
  },
  {
   "cell_type": "code",
   "execution_count": 9,
   "metadata": {
    "pycharm": {
     "is_executing": false,
     "name": "#%%\n"
    }
   },
   "outputs": [
    {
     "name": "stdout",
     "output_type": "stream",
     "text": [
      "page 26 indexed.\n",
      "page 27 indexed.\n",
      "page 28 indexed.\n",
      "page 29 indexed.\n",
      "page 30 indexed.\n",
      "page 31 indexed.\n",
      "page 32 indexed.\n",
      "page 33 indexed.\n",
      "page 34 indexed.\n",
      "page 35 indexed.\n",
      "page 36 indexed.\n",
      "page 37 indexed.\n",
      "page 38 indexed.\n",
      "page 39 indexed.\n",
      "page 40 indexed.\n",
      "page 41 indexed.\n",
      "page 42 indexed.\n",
      "page 43 indexed.\n",
      "page 44 indexed.\n",
      "page 45 indexed.\n",
      "page 46 indexed.\n",
      "page 47 indexed.\n",
      "page 48 indexed.\n",
      "page 49 indexed.\n",
      "page 50 indexed.\n",
      "page 51 indexed.\n",
      "page 52 indexed.\n",
      "page 53 indexed.\n",
      "page 54 indexed.\n",
      "page 55 indexed.\n",
      "page 56 indexed.\n",
      "page 57 indexed.\n",
      "page 58 indexed.\n",
      "page 59 indexed.\n"
     ]
    }
   ],
   "source": [
    "page = Food.query.paginate(page=26,per_page=100)\n",
    "while page.has_next:\n",
    "    for item in page.items:\n",
    "        Food.add_to_index(item)\n",
    "    print(f'page {page.next_num - 1} indexed.')\n",
    "    page = page.next()"
   ]
  },
  {
   "cell_type": "code",
   "execution_count": null,
   "metadata": {
    "pycharm": {
     "is_executing": false,
     "name": "#%%\n"
    }
   },
   "outputs": [],
   "source": [
    "page = Food.query.paginate(page=51,per_page=100)"
   ]
  },
  {
   "cell_type": "code",
   "execution_count": 10,
   "metadata": {
    "pycharm": {
     "is_executing": false,
     "name": "#%%\n"
    }
   },
   "outputs": [
    {
     "name": "stdout",
     "output_type": "stream",
     "text": [
      "page 60 indexed.\n"
     ]
    }
   ],
   "source": [
    "#inserting last page\n",
    "page = Food.query.paginate(page=60,per_page=100)\n",
    "for item in page.items:\n",
    "    Food.add_to_index(item)\n",
    "print(f'page {page.pages} indexed.')"
   ]
  },
  {
   "cell_type": "code",
   "execution_count": 106,
   "metadata": {
    "pycharm": {
     "is_executing": false,
     "name": "#%%\n"
    }
   },
   "outputs": [],
   "source": [
    "query = \"Mangos\" \n",
    "#elastic ingredient search\n",
    "search = elastic.search(\n",
    "            index='ingredients',\n",
    "            body={'query': {'multi_match': {'query': query, 'fields': ['food_name']}},\n",
    "                  'from': 0, 'size': 20})\n"
   ]
  },
  {
   "cell_type": "code",
   "execution_count": 107,
   "metadata": {
    "pycharm": {
     "is_executing": false,
     "name": "#%%\n"
    }
   },
   "outputs": [
    {
     "data": {
      "text/plain": [
       "{'took': 2,\n",
       " 'timed_out': False,\n",
       " '_shards': {'total': 1, 'successful': 1, 'skipped': 0, 'failed': 0},\n",
       " 'hits': {'total': {'value': 2, 'relation': 'eq'},\n",
       "  'max_score': 7.2770195,\n",
       "  'hits': [{'_index': 'ingredients',\n",
       "    '_type': 'ingredient',\n",
       "    '_id': '164513',\n",
       "    '_score': 7.2770195,\n",
       "    '_source': {'food_name': 'Mangos',\n",
       "     'id': 164513,\n",
       "     'primary_thumbnail': 'https://images.eatthismuch.com/site_media/thmb/164513_simmyras_016d1a64-02af-4910-bfe4-184e12b138a9.png',\n",
       "     'nutrition': {'calories': 130.0,\n",
       "      'carbs': 32.0,\n",
       "      'fats': 0.0,\n",
       "      'proteins': 1.0}}},\n",
       "   {'_index': 'ingredients',\n",
       "    '_type': 'ingredient',\n",
       "    '_id': '1448',\n",
       "    '_score': 7.2770195,\n",
       "    '_source': {'food_name': 'Mangos',\n",
       "     'id': 1448,\n",
       "     'primary_thumbnail': 'https://images.eatthismuch.com/site_media/thmb/1448_erin_m_80d7aa63-91c7-4999-9942-d6ebea57bb2a.png',\n",
       "     'nutrition': {'calories': 124.2,\n",
       "      'carbs': 31.01,\n",
       "      'fats': 0.79,\n",
       "      'proteins': 1.7}}}]}}"
      ]
     },
     "execution_count": 107,
     "metadata": {},
     "output_type": "execute_result"
    }
   ],
   "source": [
    "search"
   ]
  },
  {
   "cell_type": "code",
   "execution_count": 8,
   "metadata": {
    "pycharm": {
     "is_executing": false,
     "name": "#%%\n"
    }
   },
   "outputs": [],
   "source": [
    "query = \"pasta olive\"\n",
    "# search = elastic.search(\n",
    "#             index='foods_new',\n",
    "#             body={\n",
    "#   \"explain\": True,\n",
    "#   \"query\": {\n",
    "#     \"bool\": {\n",
    "#       \"should\": [\n",
    "#         {\n",
    "#           \"multi_match\": {\n",
    "#             \"query\": query,\n",
    "#             \"fields\": [\n",
    "#               \"name^4.0\",fr\n",
    "#               \"category^1.0\",\n",
    "#               \"description^3.0\"\n",
    "#               \"tag_cloud^4.0\",\n",
    "#               \"ingredients^2.0\",\n",
    "#               \"directions^1.5\",\n",
    "#               \"author^1.0\"\n",
    "#             ],\n",
    "#             \"type\": \"phrase_prefix\",\n",
    "#             \"lenient\": \"true\"\n",
    "#           }\n",
    "#         }\n",
    "#       ],\n",
    "#       \"boost\": 1,\n",
    "#       \"minimum_should_match\": 1\n",
    "#     }\n",
    "#   },\n",
    "#   \"from\": 0,\n",
    "#   \"size\": 20}\n",
    "# )\n",
    "q = Q('bool',\n",
    "#          should=[\n",
    "#             {\n",
    "#               \"multi_match\": {\n",
    "#                   \"query\": query,\n",
    "#                   \"fields\": [\n",
    "#                       \"name^6.0\",\n",
    "#                       \"category^1.0\",\n",
    "#                       \"description^3.0\",\n",
    "#                       \"tag_cloud^3.0\",\n",
    "#                       \"ingredients^2.0\",\n",
    "#                       \"directions^1.5\",\n",
    "#                       \"author^1.0\"\n",
    "#                 ],\n",
    "#                 \"type\": \"phrase_prefix\",\n",
    "#                 \"lenient\": \"true\"\n",
    "#               }\n",
    "#             },\n",
    "             \n",
    "#          ],\n",
    "      must=[\n",
    "             {\n",
    "                 \"range\":{\n",
    "                     \"nutrition.calories\":{\n",
    "                         \"gte\":2800\n",
    "                     }\n",
    "                 }\n",
    "             }\n",
    "#           ,{\n",
    "#                  \"range\":{\n",
    "#                      \"prep_time\":{\n",
    "#                          \"gte\":15\n",
    "#                      }\n",
    "#                  }\n",
    "#              }\n",
    "         ],boost=1,\n",
    "      minimum_should_match=1)\n",
    "\n",
    "      "
   ]
  },
  {
   "cell_type": "code",
   "execution_count": 43,
   "metadata": {
    "pycharm": {
     "name": "#%%\n"
    }
   },
   "outputs": [],
   "source": []
  },
  {
   "cell_type": "code",
   "execution_count": 3,
   "metadata": {
    "pycharm": {
     "is_executing": false
    }
   },
   "outputs": [],
   "source": [
    "from elasticsearch_dsl import Q,Search\n"
   ]
  },
  {
   "cell_type": "code",
   "execution_count": 9,
   "metadata": {},
   "outputs": [
    {
     "data": {
      "text/plain": [
       "{'took': 3,\n",
       " 'timed_out': False,\n",
       " '_shards': {'total': 16, 'successful': 16, 'skipped': 0, 'failed': 0},\n",
       " 'hits': {'total': {'value': 0, 'relation': 'eq'},\n",
       "  'max_score': None,\n",
       "  'hits': []}}"
      ]
     },
     "execution_count": 9,
     "metadata": {},
     "output_type": "execute_result"
    }
   ],
   "source": [
    "s = Search(using=elastic)\n",
    "s = s.query(q)\n",
    "for idd in [4914 ,2057,2042]:\n",
    "    s = s.filter('term',**{\n",
    "               \"ingredient_ids\": idd\n",
    "            })\n",
    "s[0].execute().to_dict()"
   ]
  },
  {
   "cell_type": "code",
   "execution_count": 4,
   "metadata": {
    "pycharm": {
     "is_executing": false
    }
   },
   "outputs": [
    {
     "data": {
      "text/plain": "[]"
     },
     "metadata": {},
     "output_type": "execute_result",
     "execution_count": 4
    }
   ],
   "source": [
    "DietRecord.query.filter(DietRecord.ownerId == 1).order_by(DietRecord.generatedAt.desc()) \\\n",
    "        .limit(10).all()"
   ]
  },
  {
   "cell_type": "code",
   "execution_count": 14,
   "outputs": [],
   "source": [
    "query= 'roast beef'\n",
    "page=1\n",
    "per_page=5\n",
    "search = Search(using=elastic, index='foods_new')\n",
    "elastic_query = Q('bool',\n",
    "                should=[\n",
    "                              {\n",
    "                                  \"multi_match\": {\n",
    "                                      \"query\": query,\n",
    "                                      \"fields\": [\n",
    "                                          \"name^6.0\",\n",
    "                                          \"category^1.0\",\n",
    "                                          \"description^3.0\",\n",
    "                                          \"tag_cloud^3.0\",\n",
    "                                          \"ingredients^2.0\",\n",
    "                                          \"directions^1.5\",\n",
    "                                          \"author^1.0\"\n",
    "                                      ],\n",
    "                                      \"type\": \"phrase_prefix\",\n",
    "                                      \"lenient\": \"true\"\n",
    "                                  }\n",
    "                              },\n",
    "\n",
    "                          ],\n",
    "                          boost=1,\n",
    "                          minimum_should_match=1)\n",
    "from_index = (page - 1) * per_page\n",
    "size = per_page\n",
    "search = search.query(elastic_query)\n",
    "search_results = search[from_index: from_index + size].execute()\n"
   ],
   "metadata": {
    "collapsed": false,
    "pycharm": {
     "name": "#%%\n",
     "is_executing": false
    }
   }
  },
  {
   "cell_type": "code",
   "execution_count": 15,
   "outputs": [
    {
     "data": {
      "text/plain": "{'took': 2,\n 'timed_out': False,\n '_shards': {'total': 1, 'successful': 1, 'skipped': 0, 'failed': 0},\n 'hits': {'total': {'value': 17, 'relation': 'eq'},\n  'max_score': 62.20536,\n  'hits': [{'_index': 'foods_new',\n    '_type': '_doc',\n    '_id': '33533',\n    '_score': 62.20536,\n    '_source': {'author': 'Ken Adams',\n     'name': 'Basic roast beef',\n     'description': '',\n     'category': 'mostly_meat',\n     'nutrition': {'calories': 129.75333333333333,\n      'carbs': 0.03666666666666667,\n      'fats': 9.813333333333334,\n      'proteins': 9.700000000000001},\n     'tag_cloud': 'Olive oil Pepper \"Basic roast beef\" Beef chuck Beef Products Spices and Herbs Fats and Oils Salt',\n     'ingredients': ['Beef chuck', 'Olive oil', 'Salt', 'Pepper'],\n     'ingredient_ids': [2899, 266, 221, 205],\n     'directions': ['Preheat oven to 450F (230C). Place beef in a roasting pan, cover with a clean kitchen towel or plastic wrap and let stand at room temp for 20 mins.',\n      'Using a glazing brush, brush beef with olive oil, then season with sea salt and pepper to taste.',\n      'Bake for 20 minutes, then reduce temp to 350F (180C) and bake until cooked to your taste, between an extra 1 hour to 1 hour and 20 mins.',\n      'Remove beef from oven, transfer to a plate, cover with aluminum foil and let rest for 20 mins. Carve and serve with gravy and potatoes.'],\n     'cook_time': 100,\n     'prep_time': 5,\n     'total_time': 105}},\n   {'_index': 'foods_new',\n    '_type': '_doc',\n    '_id': '986392',\n    '_score': 55.91916,\n    '_source': {'author': 'Ken Adams',\n     'name': 'Breadless Philly Roast Beef',\n     'description': '',\n     'category': 'other',\n     'nutrition': {'calories': 56.12833333333333,\n      'carbs': 1.8,\n      'fats': 3.35,\n      'proteins': 4.878333333333333},\n     'tag_cloud': 'Olive oil Pepper Dairy Products Salt Provolone cheese Mushrooms Spices and Herbs Vegetables and Vegetable Products Garlic Slow Roasted Roast Beef peppers Green bell pepper Fats and Oils Onions \"Breadless Philly Roast Beef\"',\n     'ingredients': ['Green bell pepper',\n      'Onions',\n      'Mushrooms',\n      'Olive oil',\n      'Garlic',\n      'Salt',\n      'Pepper',\n      'Slow Roasted Roast Beef',\n      'Provolone cheese'],\n     'ingredient_ids': [2080, 2042, 2021, 266, 1980, 221, 205, 95368, 35],\n     'directions': ['Preheat oven to 400 degrees F. Remove tops and seed from bell peppers. Slice onions and mushrooms.',\n      'Heat oil in a pan over medium heat. Saute onions and mushrooms with garlic, pepper, and salt until tender, about 10-12 minutes.',\n      'Slice roast beef into strips',\n      'Layer roast beef, vegetables, and cheese in layers (two slices of cheese per pepper) inside the pepper',\n      'Bake for 10-15 minutes or until cheese is golden brown. Enjoy!'],\n     'cook_time': 27,\n     'prep_time': 10,\n     'total_time': 37}},\n   {'_index': 'foods_new',\n    '_type': '_doc',\n    '_id': '906749',\n    '_score': 50.786865,\n    '_source': {'author': 'Ken Adams',\n     'name': 'Roast Beef Sandwich Au Jus',\n     'description': '',\n     'category': 'sandwich',\n     'nutrition': {'calories': 60.629999999999995,\n      'carbs': 4.755,\n      'fats': 2.3216666666666668,\n      'proteins': 5.036666666666666},\n     'tag_cloud': 'Dairy Products Gravy, au jus Beef Products Sourdough bread Swiss cheese Soups, Sauces, and Gravies Beef round Baked Products \"Roast Beef Sandwich Au Jus\" gluten',\n     'ingredients': ['Sourdough bread',\n      'Beef round',\n      'Swiss cheese',\n      'Gravy, au jus'],\n     'ingredient_ids': [3991, 2831, 40, 712],\n     'directions': ['Slice loaf lengthwise (butterfly) and place in broiler for 1 minute. Add roast beef then cheese on top, broil for another 3-5 minutes or until cheese is melting.',\n      'On stovetop heat Au Jus until warm. Enjoy!'],\n     'cook_time': 6,\n     'prep_time': 2,\n     'total_time': 8}},\n   {'_index': 'foods_new',\n    '_type': '_doc',\n    '_id': '906002',\n    '_score': 50.786865,\n    '_source': {'author': 'Ken Adams',\n     'name': 'Roast Beef and Cheddar Sandwich',\n     'description': '',\n     'category': 'sandwich',\n     'nutrition': {'calories': 449.79,\n      'carbs': 25.41,\n      'fats': 19.84,\n      'proteins': 41.32},\n     'tag_cloud': 'Dijon mustard Cheddar cheese Dairy Products Whole-wheat bread \"Roast Beef and Cheddar Sandwich\" Beef Products Roast Beef Spices and Herbs Baked Products gluten',\n     'ingredients': ['Whole-wheat bread',\n      'Roast Beef',\n      'Cheddar cheese',\n      'Dijon mustard'],\n     'ingredient_ids': [4025, 99794, 9, 5815],\n     'directions': ['Spread mustard onto slices of bread. Top with roast beef and cheddar. Bring together slices to form a sandwich. Enjoy!'],\n     'cook_time': 0,\n     'prep_time': 5,\n     'total_time': 5}},\n   {'_index': 'foods_new',\n    '_type': '_doc',\n    '_id': '45177',\n    '_score': 46.517456,\n    '_source': {'author': 'Ken Adams',\n     'name': 'Roast Beef and Avocado Finger Sandwiches',\n     'description': '',\n     'category': 'sandwich',\n     'nutrition': {'calories': 5.771111111111111,\n      'carbs': 0.5027777777777778,\n      'fats': 0.2683333333333333,\n      'proteins': 0.34444444444444444},\n     'tag_cloud': 'Chives gluten \"Roast Beef and Avocado Finger Sandwiches\" Whole-wheat bread Salt Pepper Beef chuck Spices and Herbs Light mayonnaise Beef Products Lemon juice Vegetables and Vegetable Products Avocados Fats and Oils Fruits and Fruit Juices Baked Products',\n     'ingredients': ['Chives',\n      'Beef chuck',\n      'Whole-wheat bread',\n      'Lemon juice',\n      'Salt',\n      'Pepper',\n      'Avocados',\n      'Light mayonnaise'],\n     'ingredient_ids': [1937, 2799, 4025, 1434, 221, 205, 1334, 367],\n     'directions': ['PREPARATION:  Mince chives.  Thinly slice rare roast beef.',\n      'In small bowl, mash avocado with fork. Stir in lemon juice, chives, salt, and pepper. Spread avocado mash over 6 slices bread, dividing evenly.',\n      'Spread other 6 slices bread with about 1 teaspoon each mayonnaise. Top with roast beef, dividing evenly. Gently press avocado-topped bread slices, avocado sides down, onto each sandwich.',\n      'Using long serrated knife, trim off crusts and cut each sandwich lengthwise into thirds.',\n      'Transportation tips: Transfer the sandwiches to a covered plastic container to transport them to the picnic, and then simply pass around the container to serve. To keep the bread from drying out, when stacking the sandwiches in the container, lay a sturdy, barely moistened paper towel between each layer and another one over the top.'],\n     'cook_time': 0,\n     'prep_time': 10,\n     'total_time': 10}}]}}"
     },
     "metadata": {},
     "output_type": "execute_result",
     "execution_count": 15
    }
   ],
   "source": [
    "search_results.to_dict()"
   ],
   "metadata": {
    "collapsed": false,
    "pycharm": {
     "name": "#%%\n",
     "is_executing": false
    }
   }
  },
  {
   "cell_type": "code",
   "execution_count": null,
   "outputs": [],
   "source": [
    "\n"
   ],
   "metadata": {
    "collapsed": false,
    "pycharm": {
     "name": "#%%\n"
    }
   }
  }
 ],
 "metadata": {
  "kernelspec": {
   "display_name": "Python 3",
   "language": "python",
   "name": "python3"
  },
  "language_info": {
   "codemirror_mode": {
    "name": "ipython",
    "version": 3
   },
   "file_extension": ".py",
   "mimetype": "text/x-python",
   "name": "python",
   "nbconvert_exporter": "python",
   "pygments_lexer": "ipython3",
   "version": "3.7.0"
  },
  "pycharm": {
   "stem_cell": {
    "cell_type": "raw",
    "source": [],
    "metadata": {
     "collapsed": false
    }
   }
  }
 },
 "nbformat": 4,
 "nbformat_minor": 1
}