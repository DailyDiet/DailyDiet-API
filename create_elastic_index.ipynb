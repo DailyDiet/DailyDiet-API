{
 "cells": [
  {
   "cell_type": "code",
   "execution_count": 1,
   "metadata": {
    "pycharm": {
     "is_executing": false
    }
   },
   "outputs": [
    {
     "name": "stderr",
     "output_type": "stream",
     "text": [
      "d:\\dailydiet\\dailydiet-api\\venv\\lib\\site-packages\\whitenoise\\base.py:115: UserWarning: No directory at: D:\\dailydiet\\dailydiet-api\\admin\\static\\\n",
      "  warnings.warn(u\"No directory at: {}\".format(root))\n"
     ]
    }
   ],
   "source": [
    "import app\n",
    "instance = app.create_app()\n",
    "instance.app_context().push()"
   ]
  },
  {
   "cell_type": "code",
   "execution_count": 3,
   "metadata": {
    "pycharm": {
     "is_executing": false,
     "name": "#%%\n"
    }
   },
   "outputs": [],
   "source": [
    "from foods.models import Food\n",
    "from extentions import elastic"
   ]
  },
  {
   "cell_type": "code",
   "execution_count": 4,
   "metadata": {
    "pycharm": {
     "is_executing": false,
     "name": "#%%\n"
    }
   },
   "outputs": [],
   "source": [
    "page = Food.query.paginate(page=1,per_page=100)"
   ]
  },
  {
   "cell_type": "code",
   "execution_count": null,
   "metadata": {
    "pycharm": {
     "is_executing": false,
     "name": "#%%\n"
    }
   },
   "outputs": [],
   "source": [
    "page.next()"
   ]
  },
  {
   "cell_type": "code",
   "execution_count": 5,
   "metadata": {
    "pycharm": {
     "is_executing": false
    }
   },
   "outputs": [
    {
     "data": {
      "text/plain": [
       "60"
      ]
     },
     "execution_count": 5,
     "metadata": {},
     "output_type": "execute_result"
    }
   ],
   "source": [
    "page.pages"
   ]
  },
  {
   "cell_type": "code",
   "execution_count": 9,
   "metadata": {
    "pycharm": {
     "is_executing": false,
     "name": "#%%\n"
    }
   },
   "outputs": [
    {
     "name": "stdout",
     "output_type": "stream",
     "text": [
      "page 26 indexed.\n",
      "page 27 indexed.\n",
      "page 28 indexed.\n",
      "page 29 indexed.\n",
      "page 30 indexed.\n",
      "page 31 indexed.\n",
      "page 32 indexed.\n",
      "page 33 indexed.\n",
      "page 34 indexed.\n",
      "page 35 indexed.\n",
      "page 36 indexed.\n",
      "page 37 indexed.\n",
      "page 38 indexed.\n",
      "page 39 indexed.\n",
      "page 40 indexed.\n",
      "page 41 indexed.\n",
      "page 42 indexed.\n",
      "page 43 indexed.\n",
      "page 44 indexed.\n",
      "page 45 indexed.\n",
      "page 46 indexed.\n",
      "page 47 indexed.\n",
      "page 48 indexed.\n",
      "page 49 indexed.\n",
      "page 50 indexed.\n",
      "page 51 indexed.\n",
      "page 52 indexed.\n",
      "page 53 indexed.\n",
      "page 54 indexed.\n",
      "page 55 indexed.\n",
      "page 56 indexed.\n",
      "page 57 indexed.\n",
      "page 58 indexed.\n",
      "page 59 indexed.\n"
     ]
    }
   ],
   "source": [
    "page = Food.query.paginate(page=26,per_page=100)\n",
    "while page.has_next:\n",
    "    for item in page.items:\n",
    "        Food.add_to_index(item)\n",
    "    print(f'page {page.next_num - 1} indexed.')\n",
    "    page = page.next()"
   ]
  },
  {
   "cell_type": "code",
   "execution_count": null,
   "metadata": {
    "pycharm": {
     "is_executing": false,
     "name": "#%%\n"
    }
   },
   "outputs": [],
   "source": [
    "page = Food.query.paginate(page=51,per_page=100)"
   ]
  },
  {
   "cell_type": "code",
   "execution_count": 10,
   "metadata": {
    "pycharm": {
     "is_executing": false,
     "name": "#%%\n"
    }
   },
   "outputs": [
    {
     "name": "stdout",
     "output_type": "stream",
     "text": [
      "page 60 indexed.\n"
     ]
    }
   ],
   "source": [
    "#inserting last page\n",
    "page = Food.query.paginate(page=60,per_page=100)\n",
    "for item in page.items:\n",
    "    Food.add_to_index(item)\n",
    "print(f'page {page.pages} indexed.')"
   ]
  },
  {
   "cell_type": "code",
   "execution_count": null,
   "metadata": {
    "pycharm": {
     "is_executing": false,
     "name": "#%%\n"
    }
   },
   "outputs": [],
   "source": [
    "indexed_ids = elastic.search(body={ \n",
    "    \"query\" : { \n",
    "        \"match_all\" : {} \n",
    "    },\n",
    "    \"fields\": ['name']\n",
    "},index='foods')"
   ]
  },
  {
   "cell_type": "code",
   "execution_count": null,
   "metadata": {
    "pycharm": {
     "is_executing": false,
     "name": "#%%\n"
    }
   },
   "outputs": [],
   "source": [
    "ids , total = Food.search(\"pasta olive oil\")\n"
   ]
  },
  {
   "cell_type": "code",
   "execution_count": null,
   "metadata": {
    "pycharm": {
     "is_executing": false,
     "name": "#%%\n"
    }
   },
   "outputs": [],
   "source": [
    "ids.all()\n"
   ]
  },
  {
   "cell_type": "code",
   "execution_count": null,
   "metadata": {
    "pycharm": {
     "name": "#%%\n"
    }
   },
   "outputs": [],
   "source": [
    "app.elastic.ping()\n"
   ]
  },
  {
   "cell_type": "code",
   "execution_count": 2,
   "metadata": {},
   "outputs": [],
   "source": [
    "indexed_ids = elastic.search(body={ \n",
    "    \"query\" : { \n",
    "        \"match_all\" : {} \n",
    "    },\n",
    "    \"fields\": ['name']\n",
    "},index='foods')"
   ]
  },
  {
   "cell_type": "code",
   "execution_count": null,
   "metadata": {},
   "outputs": [],
   "source": []
  }
 ],
 "metadata": {
  "kernelspec": {
   "display_name": "Python 3",
   "language": "python",
   "name": "python3"
  },
  "language_info": {
   "codemirror_mode": {
    "name": "ipython",
    "version": 3
   },
   "file_extension": ".py",
   "mimetype": "text/x-python",
   "name": "python",
   "nbconvert_exporter": "python",
   "pygments_lexer": "ipython3",
   "version": "3.7.0"
  },
  "pycharm": {
   "stem_cell": {
    "cell_type": "raw",
    "metadata": {
     "collapsed": false
    },
    "source": []
   }
  }
 },
 "nbformat": 4,
 "nbformat_minor": 1
}
