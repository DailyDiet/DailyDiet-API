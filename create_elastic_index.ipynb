{
 "cells": [
  {
   "cell_type": "code",
   "execution_count": 1,
   "metadata": {
    "pycharm": {
     "is_executing": false
    }
   },
   "outputs": [
    {
     "name": "stderr",
     "output_type": "stream",
     "text": [
      "d:\\dailydiet\\dailydiet-api\\venv\\lib\\site-packages\\whitenoise\\base.py:115: UserWarning: No directory at: D:\\dailydiet\\dailydiet-api\\admin\\static\\\n",
      "  warnings.warn(u\"No directory at: {}\".format(root))\n"
     ]
    }
   ],
   "source": [
    "import app\n",
    "instance = app.create_app()\n",
    "instance.app_context().push()"
   ]
  },
  {
   "cell_type": "code",
   "execution_count": 2,
   "metadata": {
    "pycharm": {
     "is_executing": false,
     "name": "#%%\n"
    }
   },
   "outputs": [],
   "source": [
    "from foods.models import Food,DietRecord\n",
    "from extentions import elastic\n",
    "from elasticsearch_dsl import Q,Search"
   ]
  },
  {
   "cell_type": "code",
   "execution_count": null,
   "metadata": {
    "pycharm": {
     "is_executing": false,
     "name": "#%%\n"
    }
   },
   "outputs": [],
   "source": [
    "page = Food.query.paginate(page=1,per_page=100)"
   ]
  },
  {
   "cell_type": "code",
   "execution_count": null,
   "metadata": {
    "pycharm": {
     "is_executing": false,
     "name": "#%%\n"
    }
   },
   "outputs": [],
   "source": [
    "page.next()"
   ]
  },
  {
   "cell_type": "code",
   "execution_count": null,
   "metadata": {
    "pycharm": {
     "is_executing": false
    }
   },
   "outputs": [],
   "source": [
    "page.pages"
   ]
  },
  {
   "cell_type": "code",
   "execution_count": null,
   "metadata": {
    "pycharm": {
     "is_executing": false,
     "name": "#%%\n"
    }
   },
   "outputs": [],
   "source": [
    "page = Food.query.paginate(page=26,per_page=100)\n",
    "while page.has_next:\n",
    "    for item in page.items:\n",
    "        Food.add_to_index(item)\n",
    "    print(f'page {page.next_num - 1} indexed.')\n",
    "    page = page.next()"
   ]
  },
  {
   "cell_type": "code",
   "execution_count": null,
   "metadata": {
    "pycharm": {
     "is_executing": false,
     "name": "#%%\n"
    }
   },
   "outputs": [],
   "source": [
    "page = Food.query.paginate(page=51,per_page=100)"
   ]
  },
  {
   "cell_type": "code",
   "execution_count": null,
   "metadata": {
    "pycharm": {
     "is_executing": false,
     "name": "#%%\n"
    }
   },
   "outputs": [],
   "source": [
    "#inserting last page\n",
    "page = Food.query.paginate(page=60,per_page=100)\n",
    "for item in page.items:\n",
    "    Food.add_to_index(item)\n",
    "print(f'page {page.pages} indexed.')"
   ]
  },
  {
   "cell_type": "code",
   "execution_count": null,
   "metadata": {
    "pycharm": {
     "is_executing": false,
     "name": "#%%\n"
    }
   },
   "outputs": [],
   "source": [
    "query = \"Mangos\" \n",
    "#elastic ingredient search\n",
    "search = elastic.search(\n",
    "            index='ingredients',\n",
    "            body={'query': {'multi_match': {'query': query, 'fields': ['food_name']}},\n",
    "                  'from': 0, 'size': 20})\n"
   ]
  },
  {
   "cell_type": "code",
   "execution_count": null,
   "metadata": {
    "pycharm": {
     "is_executing": false,
     "name": "#%%\n"
    }
   },
   "outputs": [],
   "source": [
    "search"
   ]
  },
  {
   "cell_type": "code",
   "execution_count": 7,
   "metadata": {
    "pycharm": {
     "is_executing": false,
     "name": "#%%\n"
    }
   },
   "outputs": [],
   "source": [
    "q = Q('bool',\n",
    "#          should=[\n",
    "#             {\n",
    "#               \"multi_match\": {\n",
    "#                   \"query\": query,\n",
    "#                   \"fields\": [\n",
    "#                       \"name^6.0\",\n",
    "#                       \"category^1.0\",\n",
    "#                       \"description^3.0\",\n",
    "#                       \"tag_cloud^3.0\",\n",
    "#                       \"ingredients^2.0\",\n",
    "#                       \"directions^1.5\",\n",
    "#                       \"author^1.0\"\n",
    "#                 ],\n",
    "#                 \"type\": \"phrase_prefix\",\n",
    "#                 \"lenient\": \"true\"\n",
    "#               }\n",
    "#             },\n",
    "             \n",
    "#          ],\n",
    "      must=[\n",
    "             {\n",
    "                 \"range\":{\n",
    "                     \"nutrition.calories\":{\n",
    "                         \"gte\":300\n",
    "                     }\n",
    "                 }\n",
    "             }\n",
    "          ,\n",
    "            {\n",
    "                \"match\":{\n",
    "                    \"category\":\"sandwich\"\n",
    "                }\n",
    "            }\n",
    "         ],\n",
    "#       boost=1,\n",
    "#       minimum_should_match=1\n",
    "     )\n",
    "\n",
    "      \n",
    "# category [one of 13 categories]\n",
    "# calories [min:max]\n",
    "# carbs [min:max]\n",
    "# fats [min:max]\n",
    "# proteins (per serving) [min:max]\n",
    "# cook_time [min:max]\n",
    "# prep_time [min:max]\n",
    "# total_time [min:max]\n",
    "# ingredients [list of ids]"
   ]
  },
  {
   "cell_type": "code",
   "execution_count": null,
   "metadata": {
    "pycharm": {
     "name": "#%%\n"
    }
   },
   "outputs": [],
   "source": []
  },
  {
   "cell_type": "code",
   "execution_count": null,
   "metadata": {
    "pycharm": {
     "is_executing": false
    }
   },
   "outputs": [],
   "source": [
    "\n"
   ]
  },
  {
   "cell_type": "code",
   "execution_count": 10,
   "metadata": {
    "pycharm": {
     "is_executing": false
    }
   },
   "outputs": [
    {
     "data": {
      "text/plain": [
       "{'took': 4,\n",
       " 'timed_out': False,\n",
       " '_shards': {'total': 16, 'successful': 16, 'skipped': 0, 'failed': 0},\n",
       " 'hits': {'total': {'value': 107, 'relation': 'eq'},\n",
       "  'max_score': 4.080478,\n",
       "  'hits': [{'_index': 'foods_new',\n",
       "    '_type': '_doc',\n",
       "    '_id': '927307',\n",
       "    '_score': 4.080478,\n",
       "    '_source': {'author': 'Ken Adams',\n",
       "     'name': 'English Muffin Ham Breakfast Sandwich',\n",
       "     'description': '',\n",
       "     'category': 'sandwich',\n",
       "     'nutrition': {'calories': 513.17,\n",
       "      'carbs': 30.88,\n",
       "      'fats': 27.58,\n",
       "      'proteins': 36.13},\n",
       "     'tag_cloud': 'English muffins Pepper Cheddar cheese Dairy Products Sliced ham Egg Sausages and Luncheon Meats Spices and Herbs realegg \"English Muffin Ham Breakfast Sandwich\" breakfast Salt Baked Products gluten',\n",
       "     'ingredients': ['Egg',\n",
       "      'Salt',\n",
       "      'Pepper',\n",
       "      'English muffins',\n",
       "      'Sliced ham',\n",
       "      'Cheddar cheese'],\n",
       "     'ingredient_ids': [103, 221, 205, 4185, 905, 9],\n",
       "     'directions': ['Preheat oven to 350 degrees F. Spray a jumbo muffin tin or small ramekins with nonstick spray.',\n",
       "      'Use the large muffin tin or small ramekins, crack an egg into each vessel for each serving you intend to make. (E.g. for one muffin use one, for six muffins, cook six.)  Use a sharp knife to gently pierce each yolk.',\n",
       "      'Bake the eggs 12-18 minutes, until set. Slide eggs out of ramekins and cool slightly. Sprinkle with salt and pepper, if desired.',\n",
       "      'Meanwhile, slice English muffins. Layer one slice of cheese on each English muffin, then 1-3 slices of ham.',\n",
       "      'Finally, layer on the egg and top of the English muffin.',\n",
       "      'If not eating immediately, wrap in plastic wrap and freeze.',\n",
       "      'To eat after frozen: remove plastic wrap and place in a bowl or on a plate. Cook in microwave for 2 minutes, then turn over and microwave for another 1.5 minutes. Enjoy!'],\n",
       "     'cook_time': 18,\n",
       "     'prep_time': 10,\n",
       "     'total_time': 28}},\n",
       "   {'_index': 'foods_new',\n",
       "    '_type': '_doc',\n",
       "    '_id': '907190',\n",
       "    '_score': 4.080478,\n",
       "    '_source': {'author': 'Ken Adams',\n",
       "     'name': 'Buffalo Chicken Grilled Cheese Sandwich',\n",
       "     'description': '',\n",
       "     'category': 'sandwich',\n",
       "     'nutrition': {'calories': 843.17,\n",
       "      'carbs': 28.11,\n",
       "      'fats': 47.17,\n",
       "      'proteins': 73.37},\n",
       "     'tag_cloud': 'Dairy Products Blue cheese Soups, Sauces, and Gravies White bread Fats and Oils Baked Products Pepper Spices and Herbs Vegetables and Vegetable Products \"Buffalo Chicken Grilled Cheese Sandwich\" Light mayonnaise Butter Cheddar cheese gluten Chicken breast Salt Poultry Products Olive oil Celery dairybutter Carrots Pepper or hot sauce Onions',\n",
       "     'ingredients': ['Chicken breast',\n",
       "      'Olive oil',\n",
       "      'Pepper',\n",
       "      'Salt',\n",
       "      'Pepper or hot sauce',\n",
       "      'Light mayonnaise',\n",
       "      'Carrots',\n",
       "      'Celery',\n",
       "      'Onions',\n",
       "      'White bread',\n",
       "      'Butter',\n",
       "      'Blue cheese',\n",
       "      'Cheddar cheese'],\n",
       "     'ingredient_ids': [451,\n",
       "      266,\n",
       "      205,\n",
       "      221,\n",
       "      739,\n",
       "      367,\n",
       "      1914,\n",
       "      1927,\n",
       "      2052,\n",
       "      4021,\n",
       "      121,\n",
       "      4,\n",
       "      9],\n",
       "     'directions': ['Preheat oven to 400 degrees F. ',\n",
       "      'Coat chicken breast with oil and season with salt and pepper. Place on a baking sheet and bake for 15 minutes; flip the chicken and bake for another 10 minutes until chicken is cooked through and juices run clear. ',\n",
       "      'Allow chicken to rest 10 minutes before handling. Set aside 1/4 of the cooked breast and wrap the remaining chicken to save for later use. Shred the 1/4 piece of chicken with two forks and set aside.',\n",
       "      'In a small bowl mix the chicken, hot sauce, mayo, carrot, celery, and onion; set aside.',\n",
       "      'Butter the outside of each slice of bread, sprinkle half of the cheeses on the inside of one slice of bread, top with the buffalo chicken salad, the remaining cheese, and finally the other slice of bread',\n",
       "      'Heat a non-stick pan over medium heat.',\n",
       "      'Add the sandwich and grill until golden brown and the cheese has melted, about 2-4 minutes per side.',\n",
       "      'Serve hot and enjoy!'],\n",
       "     'cook_time': 25,\n",
       "     'prep_time': 15,\n",
       "     'total_time': 40}}]}}"
      ]
     },
     "execution_count": 10,
     "metadata": {},
     "output_type": "execute_result"
    }
   ],
   "source": [
    "s = Search(using=elastic)\n",
    "s = s.query(q)\n",
    "# for idd in [4914 ,2057,2042]:\n",
    "#     s = s.filter('term',**{\n",
    "#                \"ingredient_ids\": idd\n",
    "#             })\n",
    "s[0:2].execute().to_dict()"
   ]
  },
  {
   "cell_type": "code",
   "execution_count": null,
   "metadata": {
    "pycharm": {
     "is_executing": false
    }
   },
   "outputs": [],
   "source": [
    "DietRecord.query.filter(DietRecord.ownerId == 1).order_by(DietRecord.generatedAt.desc()) \\\n",
    "        .limit(10).all()"
   ]
  },
  {
   "cell_type": "code",
   "execution_count": null,
   "metadata": {
    "pycharm": {
     "is_executing": false,
     "name": "#%%\n"
    }
   },
   "outputs": [],
   "source": [
    "query= 'roast beef'\n",
    "page=1\n",
    "per_page=5\n",
    "search = Search(using=elastic, index='foods_new')\n",
    "elastic_query = Q('bool',\n",
    "                should=[\n",
    "                              {\n",
    "                                  \"multi_match\": {\n",
    "                                      \"query\": query,\n",
    "                                      \"fields\": [\n",
    "                                          \"name^6.0\",\n",
    "                                          \"category^1.0\",\n",
    "                                          \"description^3.0\",\n",
    "                                          \"tag_cloud^3.0\",\n",
    "                                          \"ingredients^2.0\",\n",
    "                                          \"directions^1.5\",\n",
    "                                          \"author^1.0\"\n",
    "                                      ],\n",
    "                                      \"type\": \"phrase_prefix\",\n",
    "                                      \"lenient\": \"true\"\n",
    "                                  }\n",
    "                              },\n",
    "\n",
    "                          ],\n",
    "                          boost=1,\n",
    "                          minimum_should_match=1)\n",
    "from_index = (page - 1) * per_page\n",
    "size = per_page\n",
    "search = search.query(elastic_query)\n",
    "search_results = search[from_index: from_index + size].execute()\n"
   ]
  },
  {
   "cell_type": "code",
   "execution_count": null,
   "metadata": {
    "pycharm": {
     "is_executing": false,
     "name": "#%%\n"
    }
   },
   "outputs": [],
   "source": [
    "search_results.to_dict()"
   ]
  },
  {
   "cell_type": "code",
   "execution_count": null,
   "metadata": {
    "pycharm": {
     "name": "#%%\n"
    }
   },
   "outputs": [],
   "source": [
    "\n"
   ]
  }
 ],
 "metadata": {
  "kernelspec": {
   "display_name": "Python 3",
   "language": "python",
   "name": "python3"
  },
  "language_info": {
   "codemirror_mode": {
    "name": "ipython",
    "version": 3
   },
   "file_extension": ".py",
   "mimetype": "text/x-python",
   "name": "python",
   "nbconvert_exporter": "python",
   "pygments_lexer": "ipython3",
   "version": "3.7.0"
  },
  "pycharm": {
   "stem_cell": {
    "cell_type": "raw",
    "metadata": {
     "collapsed": false
    },
    "source": []
   }
  }
 },
 "nbformat": 4,
 "nbformat_minor": 1
}
