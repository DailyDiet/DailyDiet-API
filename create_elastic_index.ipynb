{
 "cells": [
  {
   "cell_type": "code",
   "execution_count": 1,
   "metadata": {
    "pycharm": {
     "is_executing": false
    }
   },
   "outputs": [
    {
     "name": "stderr",
     "text": [
      "d:\\dailydiet\\dailydiet-api\\venv\\lib\\site-packages\\whitenoise\\base.py:115: UserWarning: No directory at: D:\\dailydiet\\dailydiet-api\\admin\\static\\\n  warnings.warn(u\"No directory at: {}\".format(root))\n"
     ],
     "output_type": "stream"
    }
   ],
   "source": [
    "import app\n",
    "instance = app.create_app()\n",
    "instance.app_context().push()"
   ]
  },
  {
   "cell_type": "code",
   "execution_count": 2,
   "metadata": {
    "pycharm": {
     "is_executing": false,
     "name": "#%%\n"
    }
   },
   "outputs": [],
   "source": [
    "from foods.models import Food,DietRecord\n",
    "from extentions import elastic"
   ]
  },
  {
   "cell_type": "code",
   "execution_count": 4,
   "metadata": {
    "pycharm": {
     "is_executing": false,
     "name": "#%%\n"
    }
   },
   "outputs": [],
   "source": [
    "page = Food.query.paginate(page=1,per_page=100)"
   ]
  },
  {
   "cell_type": "code",
   "execution_count": null,
   "metadata": {
    "pycharm": {
     "is_executing": false,
     "name": "#%%\n"
    }
   },
   "outputs": [],
   "source": [
    "page.next()"
   ]
  },
  {
   "cell_type": "code",
   "execution_count": 5,
   "metadata": {
    "pycharm": {
     "is_executing": false
    }
   },
   "outputs": [
    {
     "data": {
      "text/plain": [
       "60"
      ]
     },
     "execution_count": 5,
     "metadata": {},
     "output_type": "execute_result"
    }
   ],
   "source": [
    "page.pages"
   ]
  },
  {
   "cell_type": "code",
   "execution_count": 9,
   "metadata": {
    "pycharm": {
     "is_executing": false,
     "name": "#%%\n"
    }
   },
   "outputs": [
    {
     "name": "stdout",
     "output_type": "stream",
     "text": [
      "page 26 indexed.\n",
      "page 27 indexed.\n",
      "page 28 indexed.\n",
      "page 29 indexed.\n",
      "page 30 indexed.\n",
      "page 31 indexed.\n",
      "page 32 indexed.\n",
      "page 33 indexed.\n",
      "page 34 indexed.\n",
      "page 35 indexed.\n",
      "page 36 indexed.\n",
      "page 37 indexed.\n",
      "page 38 indexed.\n",
      "page 39 indexed.\n",
      "page 40 indexed.\n",
      "page 41 indexed.\n",
      "page 42 indexed.\n",
      "page 43 indexed.\n",
      "page 44 indexed.\n",
      "page 45 indexed.\n",
      "page 46 indexed.\n",
      "page 47 indexed.\n",
      "page 48 indexed.\n",
      "page 49 indexed.\n",
      "page 50 indexed.\n",
      "page 51 indexed.\n",
      "page 52 indexed.\n",
      "page 53 indexed.\n",
      "page 54 indexed.\n",
      "page 55 indexed.\n",
      "page 56 indexed.\n",
      "page 57 indexed.\n",
      "page 58 indexed.\n",
      "page 59 indexed.\n"
     ]
    }
   ],
   "source": [
    "page = Food.query.paginate(page=26,per_page=100)\n",
    "while page.has_next:\n",
    "    for item in page.items:\n",
    "        Food.add_to_index(item)\n",
    "    print(f'page {page.next_num - 1} indexed.')\n",
    "    page = page.next()"
   ]
  },
  {
   "cell_type": "code",
   "execution_count": null,
   "metadata": {
    "pycharm": {
     "is_executing": false,
     "name": "#%%\n"
    }
   },
   "outputs": [],
   "source": [
    "page = Food.query.paginate(page=51,per_page=100)"
   ]
  },
  {
   "cell_type": "code",
   "execution_count": 10,
   "metadata": {
    "pycharm": {
     "is_executing": false,
     "name": "#%%\n"
    }
   },
   "outputs": [
    {
     "name": "stdout",
     "output_type": "stream",
     "text": [
      "page 60 indexed.\n"
     ]
    }
   ],
   "source": [
    "#inserting last page\n",
    "page = Food.query.paginate(page=60,per_page=100)\n",
    "for item in page.items:\n",
    "    Food.add_to_index(item)\n",
    "print(f'page {page.pages} indexed.')"
   ]
  },
  {
   "cell_type": "code",
   "execution_count": 106,
   "metadata": {
    "pycharm": {
     "is_executing": false,
     "name": "#%%\n"
    }
   },
   "outputs": [],
   "source": [
    "query = \"Mangos\" \n",
    "#elastic ingredient search\n",
    "search = elastic.search(\n",
    "            index='ingredients',\n",
    "            body={'query': {'multi_match': {'query': query, 'fields': ['food_name']}},\n",
    "                  'from': 0, 'size': 20})\n"
   ]
  },
  {
   "cell_type": "code",
   "execution_count": 107,
   "metadata": {
    "pycharm": {
     "is_executing": false,
     "name": "#%%\n"
    }
   },
   "outputs": [
    {
     "data": {
      "text/plain": [
       "{'took': 2,\n",
       " 'timed_out': False,\n",
       " '_shards': {'total': 1, 'successful': 1, 'skipped': 0, 'failed': 0},\n",
       " 'hits': {'total': {'value': 2, 'relation': 'eq'},\n",
       "  'max_score': 7.2770195,\n",
       "  'hits': [{'_index': 'ingredients',\n",
       "    '_type': 'ingredient',\n",
       "    '_id': '164513',\n",
       "    '_score': 7.2770195,\n",
       "    '_source': {'food_name': 'Mangos',\n",
       "     'id': 164513,\n",
       "     'primary_thumbnail': 'https://images.eatthismuch.com/site_media/thmb/164513_simmyras_016d1a64-02af-4910-bfe4-184e12b138a9.png',\n",
       "     'nutrition': {'calories': 130.0,\n",
       "      'carbs': 32.0,\n",
       "      'fats': 0.0,\n",
       "      'proteins': 1.0}}},\n",
       "   {'_index': 'ingredients',\n",
       "    '_type': 'ingredient',\n",
       "    '_id': '1448',\n",
       "    '_score': 7.2770195,\n",
       "    '_source': {'food_name': 'Mangos',\n",
       "     'id': 1448,\n",
       "     'primary_thumbnail': 'https://images.eatthismuch.com/site_media/thmb/1448_erin_m_80d7aa63-91c7-4999-9942-d6ebea57bb2a.png',\n",
       "     'nutrition': {'calories': 124.2,\n",
       "      'carbs': 31.01,\n",
       "      'fats': 0.79,\n",
       "      'proteins': 1.7}}}]}}"
      ]
     },
     "execution_count": 107,
     "metadata": {},
     "output_type": "execute_result"
    }
   ],
   "source": [
    "search"
   ]
  },
  {
   "cell_type": "code",
   "execution_count": 8,
   "metadata": {
    "pycharm": {
     "is_executing": false,
     "name": "#%%\n"
    }
   },
   "outputs": [],
   "source": [
    "query = \"pasta olive\"\n",
    "# search = elastic.search(\n",
    "#             index='foods_new',\n",
    "#             body={\n",
    "#   \"explain\": True,\n",
    "#   \"query\": {\n",
    "#     \"bool\": {\n",
    "#       \"should\": [\n",
    "#         {\n",
    "#           \"multi_match\": {\n",
    "#             \"query\": query,\n",
    "#             \"fields\": [\n",
    "#               \"name^4.0\",fr\n",
    "#               \"category^1.0\",\n",
    "#               \"description^3.0\"\n",
    "#               \"tag_cloud^4.0\",\n",
    "#               \"ingredients^2.0\",\n",
    "#               \"directions^1.5\",\n",
    "#               \"author^1.0\"\n",
    "#             ],\n",
    "#             \"type\": \"phrase_prefix\",\n",
    "#             \"lenient\": \"true\"\n",
    "#           }\n",
    "#         }\n",
    "#       ],\n",
    "#       \"boost\": 1,\n",
    "#       \"minimum_should_match\": 1\n",
    "#     }\n",
    "#   },\n",
    "#   \"from\": 0,\n",
    "#   \"size\": 20}\n",
    "# )\n",
    "q = Q('bool',\n",
    "#          should=[\n",
    "#             {\n",
    "#               \"multi_match\": {\n",
    "#                   \"query\": query,\n",
    "#                   \"fields\": [\n",
    "#                       \"name^6.0\",\n",
    "#                       \"category^1.0\",\n",
    "#                       \"description^3.0\",\n",
    "#                       \"tag_cloud^3.0\",\n",
    "#                       \"ingredients^2.0\",\n",
    "#                       \"directions^1.5\",\n",
    "#                       \"author^1.0\"\n",
    "#                 ],\n",
    "#                 \"type\": \"phrase_prefix\",\n",
    "#                 \"lenient\": \"true\"\n",
    "#               }\n",
    "#             },\n",
    "             \n",
    "#          ],\n",
    "      must=[\n",
    "             {\n",
    "                 \"range\":{\n",
    "                     \"nutrition.calories\":{\n",
    "                         \"gte\":2800\n",
    "                     }\n",
    "                 }\n",
    "             }\n",
    "#           ,{\n",
    "#                  \"range\":{\n",
    "#                      \"prep_time\":{\n",
    "#                          \"gte\":15\n",
    "#                      }\n",
    "#                  }\n",
    "#              }\n",
    "         ],boost=1,\n",
    "      minimum_should_match=1)\n",
    "\n",
    "      "
   ]
  },
  {
   "cell_type": "code",
   "execution_count": 43,
   "metadata": {
    "pycharm": {
     "name": "#%%\n"
    }
   },
   "outputs": [],
   "source": []
  },
  {
   "cell_type": "code",
   "execution_count": 3,
   "metadata": {},
   "outputs": [],
   "source": [
    "from elasticsearch_dsl import Q,Search\n"
   ]
  },
  {
   "cell_type": "code",
   "execution_count": 9,
   "metadata": {},
   "outputs": [
    {
     "data": {
      "text/plain": [
       "{'took': 3,\n",
       " 'timed_out': False,\n",
       " '_shards': {'total': 16, 'successful': 16, 'skipped': 0, 'failed': 0},\n",
       " 'hits': {'total': {'value': 0, 'relation': 'eq'},\n",
       "  'max_score': None,\n",
       "  'hits': []}}"
      ]
     },
     "execution_count": 9,
     "metadata": {},
     "output_type": "execute_result"
    }
   ],
   "source": [
    "s = Search(using=elastic)\n",
    "s = s.query(q)\n",
    "for idd in [4914 ,2057,2042]:\n",
    "    s = s.filter('term',**{\n",
    "               \"ingredient_ids\": idd\n",
    "            })\n",
    "s[0].execute().to_dict()"
   ]
  },
  {
   "cell_type": "code",
   "execution_count": 4,
   "metadata": {
    "pycharm": {
     "is_executing": false
    }
   },
   "outputs": [
    {
     "data": {
      "text/plain": "[]"
     },
     "metadata": {},
     "output_type": "execute_result",
     "execution_count": 4
    }
   ],
   "source": [
    "DietRecord.query.filter(DietRecord.ownerId == 1).order_by(DietRecord.generatedAt.desc()) \\\n",
    "        .limit(10).all()"
   ]
  },
  {
   "cell_type": "code",
   "execution_count": null,
   "outputs": [],
   "source": [
    "\n"
   ],
   "metadata": {
    "collapsed": false,
    "pycharm": {
     "name": "#%%\n"
    }
   }
  }
 ],
 "metadata": {
  "kernelspec": {
   "display_name": "Python 3",
   "language": "python",
   "name": "python3"
  },
  "language_info": {
   "codemirror_mode": {
    "name": "ipython",
    "version": 3
   },
   "file_extension": ".py",
   "mimetype": "text/x-python",
   "name": "python",
   "nbconvert_exporter": "python",
   "pygments_lexer": "ipython3",
   "version": "3.7.0"
  },
  "pycharm": {
   "stem_cell": {
    "cell_type": "raw",
    "source": [],
    "metadata": {
     "collapsed": false
    }
   }
  }
 },
 "nbformat": 4,
 "nbformat_minor": 1
}